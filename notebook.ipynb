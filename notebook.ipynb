{
 "cells": [
  {
   "cell_type": "code",
   "execution_count": 1,
   "metadata": {},
   "outputs": [],
   "source": [
    "from collections import Counter\n",
    "import nltk, json\n",
    "import numpy as np\n",
    "import pandas as pd\n",
    "from sklearn.model_selection import train_test_split\n",
    "import torch\n",
    "import torch.nn as nn\n",
    "import torch.nn.functional as F\n",
    "from torch.utils.data import TensorDataset, DataLoader\n",
    "from torchmetrics import Accuracy, Precision, Recall"
   ]
  },
  {
   "cell_type": "code",
   "execution_count": 3,
   "metadata": {},
   "outputs": [
    {
     "name": "stderr",
     "output_type": "stream",
     "text": [
      "[nltk_data] Downloading package punkt to\n",
      "[nltk_data]     C:\\Users\\plang\\AppData\\Roaming\\nltk_data...\n",
      "[nltk_data]   Unzipping tokenizers\\punkt.zip.\n"
     ]
    },
    {
     "data": {
      "text/plain": [
       "True"
      ]
     },
     "execution_count": 3,
     "metadata": {},
     "output_type": "execute_result"
    }
   ],
   "source": [
    "# nltk.download('punkt')"
   ]
  },
  {
   "cell_type": "code",
   "execution_count": 2,
   "metadata": {},
   "outputs": [],
   "source": [
    "# Import data and labels\n",
    "with open(r\"Data/words.json\", 'r') as f1:\n",
    "    words = json.load(f1)\n",
    "with open(r\"Data/text.json\", 'r') as f2:\n",
    "    text = json.load(f2)\n",
    "labels = np.load(r'Data/labels.npy')"
   ]
  },
  {
   "cell_type": "code",
   "execution_count": 3,
   "metadata": {},
   "outputs": [],
   "source": [
    "# Dictionaries to store the word to index mappings and vice versa\n",
    "word2idx = {o:i for i,o in enumerate(words)}\n",
    "idx2word = {i:o for i,o in enumerate(words)}\n",
    "\n",
    "# Looking up the mapping dictionary and assigning the index to the respective words\n",
    "for i, sentence in enumerate(text):\n",
    "    text[i] = [word2idx[word] if word in word2idx else 0 for word in sentence]\n",
    "    \n",
    "# Defining a function that either shortens sentences or pads sentences with 0 to a fixed length\n",
    "def pad_input(sentences, seq_len):\n",
    "    features = np.zeros((len(sentences), seq_len),dtype=int)\n",
    "    for ii, review in enumerate(sentences):\n",
    "        if len(review) != 0:\n",
    "            features[ii, -len(review):] = np.array(review)[:seq_len]\n",
    "    return features\n",
    "\n",
    "text = pad_input(text, 50)\n",
    "\n",
    "num_classes = len(np.unique(labels))"
   ]
  },
  {
   "cell_type": "code",
   "execution_count": 4,
   "metadata": {},
   "outputs": [],
   "source": [
    "# Splitting dataset\n",
    "train_text, test_text, train_label, test_label = train_test_split(text, labels, test_size=0.1, random_state=42)\n",
    "train_text, valid_text, train_label, valid_label = train_test_split(train_text, train_label, test_size=0.1, random_state=42)\n",
    "\n",
    "train_data = TensorDataset(torch.from_numpy(train_text), torch.from_numpy(train_label).long())\n",
    "valid_data = TensorDataset(torch.from_numpy(valid_text), torch.from_numpy(valid_label).long())\n",
    "test_data = TensorDataset(torch.from_numpy(test_text), torch.from_numpy(test_label).long())"
   ]
  },
  {
   "cell_type": "code",
   "execution_count": 5,
   "metadata": {},
   "outputs": [],
   "source": [
    "class CNNTextClassifier(nn.Module):\n",
    "    def __init__(self, vocab_size, embed_dim, num_classes):\n",
    "        super(CNNTextClassifier, self).__init__()\n",
    "        self.embedding = nn.Embedding(num_embeddings=vocab_size, embedding_dim=embed_dim)\n",
    "        self.cnn = nn.Conv1d(in_channels=embed_dim, out_channels=embed_dim, kernel_size=3, stride=1, padding=1)\n",
    "        self.fc = nn.Linear(embed_dim, num_classes)\n",
    "    def forward(self, text):\n",
    "        embedded=self.embedding(text).permute(1,0)\n",
    "        conved=F.relu(self.cnn(embedded))\n",
    "        conved=conved.mean(dim=1)\n",
    "        outputs=self.fc(conved)\n",
    "        proba=F.softmax(outputs, dim=0)\n",
    "        return(proba)"
   ]
  },
  {
   "cell_type": "code",
   "execution_count": 143,
   "metadata": {},
   "outputs": [
    {
     "name": "stdout",
     "output_type": "stream",
     "text": [
      "Epoch: 1, Training Loss: 0.9119582772254944, Validation Loss: 1.5952026844024658\n",
      "Epoch: 2, Training Loss: 0.9050331711769104, Validation Loss: 1.7598860263824463\n",
      "Epoch: 3, Training Loss: 0.9048406481742859, Validation Loss: 1.8258984088897705\n",
      "Epoch: 4, Training Loss: 0.9048325419425964, Validation Loss: 1.823211431503296\n",
      "Epoch: 5, Training Loss: 0.9048324823379517, Validation Loss: 1.7896498441696167\n",
      "Epoch: 6, Training Loss: 0.9048324823379517, Validation Loss: 1.7396031618118286\n",
      "Epoch: 7, Training Loss: 0.9048324823379517, Validation Loss: 1.6988259553909302\n",
      "Epoch: 8, Training Loss: 0.9048324823379517, Validation Loss: 1.6282529830932617\n",
      "Epoch: 9, Training Loss: 0.9048324823379517, Validation Loss: 1.4629325866699219\n",
      "Epoch: 10, Training Loss: 0.9048324823379517, Validation Loss: 1.2836328744888306\n"
     ]
    }
   ],
   "source": [
    "cnn=CNNTextClassifier(vocab_size=len(word2idx), embed_dim=10, num_classes=num_classes)\n",
    "\n",
    "# Training loop\n",
    "criterion = nn.CrossEntropyLoss()\n",
    "another_criterion = nn.CrossEntropyLoss()\n",
    "optimizer = torch.optim.Adam(cnn.parameters(), lr=0.001)\n",
    "\n",
    "for epoch in range(10):\n",
    "    cnn.train()\n",
    "    for text, label in train_data:\n",
    "        optimizer.zero_grad()\n",
    "        pred_proba = cnn(text)\n",
    "        loss = criterion(pred_proba, label)\n",
    "        loss.backward()\n",
    "        optimizer.step()\n",
    "\n",
    "    cnn.eval()\n",
    "    with torch.no_grad():\n",
    "        for text, label in valid_data:\n",
    "            pred_proba=cnn(text)\n",
    "            valid_loss = another_criterion(pred_proba, label)   \n",
    "    print(f'Epoch: {epoch+1}, Training Loss: {loss.item()}, Validation Loss: {valid_loss.item()}')"
   ]
  },
  {
   "cell_type": "code",
   "execution_count": 146,
   "metadata": {},
   "outputs": [
    {
     "name": "stdout",
     "output_type": "stream",
     "text": [
      "tensor([0.6712, 0.7097, 0.8182, 0.8158, 0.8807])\n",
      "tensor([0.5385, 0.8049, 0.8265, 0.8378, 0.9143])\n",
      "tensor([0.6712, 0.7097, 0.8182, 0.8158, 0.8807])\n",
      "tensor([0.5976, 0.7543, 0.8223, 0.8267, 0.8972])\n"
     ]
    }
   ],
   "source": [
    "accuracy = Accuracy(task='multiclass', num_classes=num_classes, average=None)\n",
    "precision = Precision(task='multiclass', num_classes=num_classes, average=None)\n",
    "recall = Recall(task='multiclass', num_classes=num_classes, average=None)\n",
    "f1 = F1Score(task='multiclass', num_classes=num_classes, average=None)\n",
    "\n",
    "cnn_valid_outputs = torch.stack([cnn(features) for features, label in valid_data])\n",
    "valid_labels =  torch.stack([label for features, label in valid_data])\n",
    "print(accuracy(cnn_valid_outputs, valid_labels))\n",
    "print(precision(cnn_valid_outputs, valid_labels))\n",
    "print(recall(cnn_valid_outputs, valid_labels))\n",
    "print(f1(cnn_valid_outputs, valid_labels))"
   ]
  }
 ],
 "metadata": {
  "kernelspec": {
   "display_name": "Python 3",
   "language": "python",
   "name": "python3"
  },
  "language_info": {
   "codemirror_mode": {
    "name": "ipython",
    "version": 3
   },
   "file_extension": ".py",
   "mimetype": "text/x-python",
   "name": "python",
   "nbconvert_exporter": "python",
   "pygments_lexer": "ipython3",
   "version": "3.11.9"
  }
 },
 "nbformat": 4,
 "nbformat_minor": 2
}
